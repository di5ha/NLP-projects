{
 "cells": [
  {
   "cell_type": "markdown",
   "id": "608fd02f",
   "metadata": {},
   "source": [
    "# NLP Model to Predict Similar Words From Given Dataset"
   ]
  },
  {
   "cell_type": "markdown",
   "id": "8a308849",
   "metadata": {},
   "source": [
    "### Importing required libraries"
   ]
  },
  {
   "cell_type": "code",
   "execution_count": 3,
   "id": "30195e6c",
   "metadata": {},
   "outputs": [],
   "source": [
    "import bs4 as bs\n",
    "import urllib.request\n",
    "import re\n",
    "import nltk"
   ]
  },
  {
   "cell_type": "markdown",
   "id": "4db0209a",
   "metadata": {},
   "source": [
    "### Webscrapping"
   ]
  },
  {
   "cell_type": "code",
   "execution_count": 4,
   "id": "ed94ed07",
   "metadata": {},
   "outputs": [],
   "source": [
    "scrapped_data = urllib.request.urlopen('https://en.wikipedia.org/wiki/Natural_language_processing')\n",
    "article = scrapped_data .read()\n",
    "\n",
    "parsed_article = bs.BeautifulSoup(article,'lxml')\n",
    "\n",
    "paragraphs = parsed_article.find_all('p')\n",
    "\n",
    "article_text = \"\"\n",
    "\n",
    "for p in paragraphs:\n",
    "    article_text += p.text\n"
   ]
  },
  {
   "cell_type": "markdown",
   "id": "640cdeae",
   "metadata": {},
   "source": [
    "### Removing Stop Words"
   ]
  },
  {
   "cell_type": "code",
   "execution_count": 5,
   "id": "944c1bff",
   "metadata": {},
   "outputs": [],
   "source": [
    "try:\n",
    "    import string\n",
    "    from nltk.corpus import stopwords\n",
    "    import nltk\n",
    "except Exception as e:\n",
    "    print(e)\n",
    "\n",
    "\n",
    "class PreProcessText(object):\n",
    "\n",
    "    def __init__(self):\n",
    "        pass\n",
    "\n",
    "    def __remove_punctuation(self, text):\n",
    "        \"\"\"\n",
    "        Takes a String\n",
    "        return : Return a String\n",
    "        \"\"\"\n",
    "        message = []\n",
    "        for x in text:\n",
    "            if x in string.punctuation:\n",
    "                pass\n",
    "            else:\n",
    "                message.append(x)\n",
    "        message = ''.join(message)\n",
    "\n",
    "        return message\n",
    "\n",
    "    def __remove_stopwords(self, text):\n",
    "        \"\"\"\n",
    "        Takes a String\n",
    "        return List\n",
    "        \"\"\"\n",
    "        words= []\n",
    "        for x in text.split():\n",
    "\n",
    "            if x.lower() in stopwords.words('english'):\n",
    "                pass\n",
    "            else:\n",
    "                words.append(x)\n",
    "        return words\n",
    "\n",
    "\n",
    "    def token_words(self,text=''):\n",
    "        \"\"\"\n",
    "        Takes String\n",
    "        Return Token also called  list of words that is used to\n",
    "        Train the Model\n",
    "        \"\"\"\n",
    "        message = self.__remove_punctuation(text)\n",
    "        words = self.__remove_stopwords(message)\n",
    "        return words"
   ]
  },
  {
   "cell_type": "code",
   "execution_count": 6,
   "id": "afbfa7c6",
   "metadata": {},
   "outputs": [
    {
     "name": "stdout",
     "output_type": "stream",
     "text": [
      "Downloaded Stop words ...... \n"
     ]
    },
    {
     "name": "stderr",
     "output_type": "stream",
     "text": [
      "[nltk_data] Downloading package stopwords to /Users/apple/nltk_data...\n",
      "[nltk_data]   Package stopwords is already up-to-date!\n"
     ]
    }
   ],
   "source": [
    "flag = nltk.download(\"stopwords\")\n",
    "\n",
    "if (flag == \"False\" or flag == False):\n",
    "    print(\"Failed to Download Stop Words\")\n",
    "else:\n",
    "    print(\"Downloaded Stop words ...... \")\n",
    "    helper = PreProcessText()\n",
    "    #words = helper.token_words(text=txt)\n",
    "    words = helper.token_words(text=article_text)\n",
    "    "
   ]
  },
  {
   "cell_type": "markdown",
   "id": "856b527d",
   "metadata": {},
   "source": [
    "### Training the model"
   ]
  },
  {
   "cell_type": "code",
   "execution_count": 8,
   "id": "8b363bdb",
   "metadata": {},
   "outputs": [],
   "source": [
    "from gensim.models import Word2Vec"
   ]
  },
  {
   "cell_type": "code",
   "execution_count": 10,
   "id": "238ca3d3",
   "metadata": {},
   "outputs": [],
   "source": [
    "model = Word2Vec([words],window=5, min_count=1, workers=4)"
   ]
  },
  {
   "cell_type": "code",
   "execution_count": 15,
   "id": "c272aff8",
   "metadata": {},
   "outputs": [],
   "source": [
    "vocabulary = model.wv.key_to_index \n"
   ]
  },
  {
   "cell_type": "code",
   "execution_count": 32,
   "id": "6600c499",
   "metadata": {},
   "outputs": [],
   "source": [
    "sim_words = model.wv.most_similar('language')"
   ]
  },
  {
   "cell_type": "code",
   "execution_count": 33,
   "id": "58ee0da6",
   "metadata": {},
   "outputs": [
    {
     "data": {
      "text/plain": [
       "[('especially', 0.36351504921913147),\n",
       " ('weights', 0.3033427894115448),\n",
       " ('relied', 0.2795228064060211),\n",
       " ('questions', 0.2746129333972931),\n",
       " ('Natural', 0.23933881521224976),\n",
       " ('methods', 0.2255360335111618),\n",
       " ('tasks', 0.22405068576335907),\n",
       " ('1950s', 0.2190595120191574),\n",
       " ('including', 0.21673107147216797),\n",
       " ('tagging', 0.2097705900669098)]"
      ]
     },
     "execution_count": 33,
     "metadata": {},
     "output_type": "execute_result"
    }
   ],
   "source": [
    "sim_words"
   ]
  },
  {
   "cell_type": "code",
   "execution_count": 26,
   "id": "e617dbb3",
   "metadata": {},
   "outputs": [
    {
     "ename": "TypeError",
     "evalue": "'Word2Vec' object is not subscriptable",
     "output_type": "error",
     "traceback": [
      "\u001b[0;31m---------------------------------------------------------------------------\u001b[0m",
      "\u001b[0;31mTypeError\u001b[0m                                 Traceback (most recent call last)",
      "Input \u001b[0;32mIn [26]\u001b[0m, in \u001b[0;36m<cell line: 1>\u001b[0;34m()\u001b[0m\n\u001b[0;32m----> 1\u001b[0m X \u001b[38;5;241m=\u001b[39m \u001b[43mmodel\u001b[49m\u001b[43m[\u001b[49m\u001b[43mmodel\u001b[49m\u001b[38;5;241;43m.\u001b[39;49m\u001b[43mwv\u001b[49m\u001b[38;5;241;43m.\u001b[39;49m\u001b[43mkey_to_index\u001b[49m\u001b[38;5;241;43m.\u001b[39;49m\u001b[43mkeys\u001b[49m\u001b[43m(\u001b[49m\u001b[43m)\u001b[49m\u001b[43m \u001b[49m\u001b[43m]\u001b[49m\n",
      "\u001b[0;31mTypeError\u001b[0m: 'Word2Vec' object is not subscriptable"
     ]
    }
   ],
   "source": [
    "X = model[model.wv.key_to_index.keys() ]"
   ]
  }
 ],
 "metadata": {
  "kernelspec": {
   "display_name": "Python 3 (ipykernel)",
   "language": "python",
   "name": "python3"
  },
  "language_info": {
   "codemirror_mode": {
    "name": "ipython",
    "version": 3
   },
   "file_extension": ".py",
   "mimetype": "text/x-python",
   "name": "python",
   "nbconvert_exporter": "python",
   "pygments_lexer": "ipython3",
   "version": "3.9.12"
  }
 },
 "nbformat": 4,
 "nbformat_minor": 5
}
